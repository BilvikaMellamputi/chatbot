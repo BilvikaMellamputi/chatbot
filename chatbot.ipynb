{
 "cells": [
  {
   "cell_type": "code",
   "execution_count": null,
   "id": "17fe6009",
   "metadata": {},
   "outputs": [
    {
     "name": "stdout",
     "output_type": "stream",
     "text": [
      "User: hi\n",
      "Moonbin: Greetings!\n",
      "User: how are you\n",
      "Moonbin: I'm sorry, I don't understand.\n"
     ]
    }
   ],
   "source": [
    "import random\n",
    "\n",
    "# Define patterns and responses for the chatbot\n",
    "patterns = {\n",
    "    \"HI\": [\"Hello!\", \"Hi there!\", \"Hey!\", \"Greetings!\"],\n",
    "    \"how are you\": [\"I'm good, thanks!\", \"I'm doing well!\", \"All is well.\"],\n",
    "    \"bye\": [\"Goodbye!\", \"Farewell!\", \"See you later!\"],\n",
    "    \"did you ate\" : [\"No I can't eat food\",\"no\"],\n",
    "    \"why\":[\"All fans are left\",\"He knew a short cut\"],\n",
    "    \"are you happy\":[\"I am happy\"],\n",
    "    \"what is your name\":[\"My name is moonbin\"],\n",
    "    \"okay\" : [\"Okay\",\"ok\"],\n",
    "    \"hey whats your name\" : [\"hey buddy my name is moonbin\"],\n",
    "    \"tell me a joke\" : [\"Why did the stadium get hot after the game\"],\n",
    "    \"tell me an another joke\":[\"How did the barber win the race\"],\n",
    "    \"why\":[\"All fans are left\"],\n",
    "    \"how\":[\"He knew a short cut\"],\n",
    "}\n",
    "\n",
    "# Function to generate a response based on user input\n",
    "def generate_response(user_input):\n",
    "    user_input = user_input.upper()\n",
    "\n",
    "    for pattern, responses in patterns.items():\n",
    "        if pattern in user_input:\n",
    "            return random.choice(responses)\n",
    "\n",
    "    return \"I'm sorry, I don't understand.\"\n",
    "\n",
    "# Main interaction loop\n",
    "while True:\n",
    "    user_input = input(\"User: \")\n",
    "    response = generate_response(user_input)\n",
    "    print(\"Moonbin:\", response)\n",
    "\n",
    "    if user_input.upper() == \"bye\":\n",
    "        break"
   ]
  },
  {
   "cell_type": "code",
   "execution_count": null,
   "id": "a2f3a96f",
   "metadata": {},
   "outputs": [],
   "source": []
  }
 ],
 "metadata": {
  "kernelspec": {
   "display_name": "Python 3 (ipykernel)",
   "language": "python",
   "name": "python3"
  },
  "language_info": {
   "codemirror_mode": {
    "name": "ipython",
    "version": 3
   },
   "file_extension": ".py",
   "mimetype": "text/x-python",
   "name": "python",
   "nbconvert_exporter": "python",
   "pygments_lexer": "ipython3",
   "version": "3.11.3"
  }
 },
 "nbformat": 4,
 "nbformat_minor": 5
}
